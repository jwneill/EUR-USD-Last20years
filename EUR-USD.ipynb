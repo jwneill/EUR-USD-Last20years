import pandas as pd
import matplotlib.pyplot as plt
import seaborn as sns

data = pd.read_csv('/Users/jackneill/Downloads/EUR_USD Historical Data.csv')

print(data.head())
data['Date'] = pd.to_datetime(data['Date'])
data.set_index('Date', inplace=True)

plt.figure(figsize=(12, 6))
sns.lineplot(x=data.index, y=data['Price'])
plt.title('EUR to USD Exchange Rate 1999-2019')
plt.xlabel('Date')
plt.ylabel('EUR/USD Conversion Rate')
plt.show()

# Calculate Yearly moving average
data['Yearly_MA'] = data['Price'].rolling(window=365).mean()

# Plot the original and moving average data
plt.figure(figsize=(12, 6))
sns.lineplot(x=data.index, y=data['Price'], label='Original')
sns.lineplot(x=data.index, y=data['Yearly_MA'], label='Yearly Moving Average')
plt.title('EUR to USD Exchange Rate with Moving Yearly Average 1999-2019')
plt.xlabel('Date')
plt.ylabel('EUR/USD Conversion Rate')
plt.legend()
plt.show()
